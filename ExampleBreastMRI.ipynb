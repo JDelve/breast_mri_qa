{
 "cells": [
  {
   "cell_type": "markdown",
   "metadata": {},
   "source": [
    "# Breast MRI QA"
   ]
  },
  {
   "cell_type": "markdown",
   "metadata": {},
   "source": [
    "This notebook allows a user to obtain MRI studies from an Orthanc DICOM server and apply a range of QA tests. The notebook acts as an interface to the `breast_mri_qa` package. Please read the instructions preceding each code cell, make any neccesary changes, and then execute the code before moving on to the next code block. "
   ]
  },
  {
   "cell_type": "code",
   "execution_count": 1,
   "metadata": {
    "collapsed": false
   },
   "outputs": [],
   "source": [
    "from breast_mri_qa import fetch, organise, measure"
   ]
  },
  {
   "cell_type": "markdown",
   "metadata": {},
   "source": [
    "Define the Orthanc server information and login credentials."
   ]
  },
  {
   "cell_type": "code",
   "execution_count": 2,
   "metadata": {
    "collapsed": true
   },
   "outputs": [],
   "source": [
    "host = '139.59.186.101' # <- EDITABLE\n",
    "port = 80 # <- EDITABLE\n",
    "user = 'orthanc' # <- EDITABLE\n",
    "passwd = 'orthanc' # <- EDITABLE"
   ]
  },
  {
   "cell_type": "markdown",
   "metadata": {},
   "source": [
    "Create a 'Fetcher' object which can query data at the patient, study and series level as well as return an instance. "
   ]
  },
  {
   "cell_type": "code",
   "execution_count": 3,
   "metadata": {
    "collapsed": false
   },
   "outputs": [],
   "source": [
    "fetcher = fetch.Fetcher(host=host, port=port, user=user, passwd=passwd)"
   ]
  },
  {
   "cell_type": "markdown",
   "metadata": {},
   "source": [
    "## >>> Input required\n",
    "Specify string `patient_name` used to search Orthanc server to find all studies associated with patients with a name matching that string."
   ]
  },
  {
   "cell_type": "code",
   "execution_count": 4,
   "metadata": {
    "collapsed": true
   },
   "outputs": [],
   "source": [
    "patient_name = 'BREAST*' # <- EDITABLE\n",
    "n_most_recent = 4 # <- EDITABLE"
   ]
  },
  {
   "cell_type": "code",
   "execution_count": 5,
   "metadata": {
    "collapsed": false
   },
   "outputs": [
    {
     "data": {
      "text/plain": [
       "[{'PatientName': 'BREAST QA LEVEL1',\n",
       "  'StationName': 'PHILIPS-911HLTO',\n",
       "  'StudyDate': '20160627',\n",
       "  'StudyUID': '1.3.46.670589.11.42358.5.0.5328.2016062712051513007'},\n",
       " {'PatientName': 'BREAST QA LEVEL 1',\n",
       "  'StationName': 'PHILIPS-911HLTO',\n",
       "  'StudyDate': '20160912',\n",
       "  'StudyUID': '1.3.46.670589.11.42358.5.0.9980.2016091208201340001'},\n",
       " {'PatientName': 'BREAST QA LEVEL 2',\n",
       "  'StationName': 'PHILIPS-7IC5KV5',\n",
       "  'StudyDate': '20160926',\n",
       "  'StudyUID': '1.3.46.670589.11.41453.5.0.5940.2016092608192762001'},\n",
       " {'PatientName': 'BREAST QA LEVEL1',\n",
       "  'StationName': 'PHILIPS-911HLTO',\n",
       "  'StudyDate': '20161003',\n",
       "  'StudyUID': '1.3.46.670589.11.42358.5.0.8420.2016100308225197001'}]"
      ]
     },
     "execution_count": 5,
     "metadata": {},
     "output_type": "execute_result"
    }
   ],
   "source": [
    "studies = fetcher.get_n_most_recent_study_details(patient_name=patient_name, n_most_recent=n_most_recent)\n",
    "studyuids = [study['StudyUID'] for study in studies]\n",
    "studies"
   ]
  },
  {
   "cell_type": "markdown",
   "metadata": {},
   "source": [
    "## >>> Input required\n",
    "\n",
    "Select the StudyUID you want y specifying the value of `selected_study` (remember they are zero-indexed). e.g. `studyuids[0]` for the first item, or `studyuids[1]` for the second item."
   ]
  },
  {
   "cell_type": "code",
   "execution_count": 6,
   "metadata": {
    "collapsed": true
   },
   "outputs": [],
   "source": [
    "selected_study = 3 # <- EDITABLE"
   ]
  },
  {
   "cell_type": "code",
   "execution_count": 7,
   "metadata": {
    "collapsed": false
   },
   "outputs": [],
   "source": [
    "studyuid = studyuids[selected_study]\n",
    "study = studies[selected_study]\n",
    "seriesuids = fetcher.get_series(studyuid)\n",
    "instances = list(filter(lambda x: x is not None, (fetcher.get_valid_image_instance(studyuid, uid) for uid in seriesuids)))"
   ]
  },
  {
   "cell_type": "markdown",
   "metadata": {},
   "source": [
    "Check whether the list of instances contains a full protocol. `rules` contains the info required to match images to the protocol. Each protocol image rule must be a 3-tuple which has the following elements in this exact order:\n",
    "- Name used to reference the image\n",
    "- The name of the function used to determine whether the image is of the required type\n",
    "- The string used to identify the image type (e.g. whether it's a SNR or FSE image)"
   ]
  },
  {
   "cell_type": "code",
   "execution_count": 8,
   "metadata": {
    "collapsed": false
   },
   "outputs": [],
   "source": [
    "protocol = organise.Protocol('config.yml')\n",
    "missing_instances = protocol.assign_instances_to_protocol(instances)\n",
    "assert not missing_instances, missing_instances"
   ]
  },
  {
   "cell_type": "markdown",
   "metadata": {},
   "source": [
    "If you made it this far without an error then the study contains all the acquisitions required to do the QA - woohoo!"
   ]
  },
  {
   "cell_type": "code",
   "execution_count": 9,
   "metadata": {
    "collapsed": false
   },
   "outputs": [
    {
     "name": "stdout",
     "output_type": "stream",
     "text": [
      "[[0 0 0 ..., 0 0 0]\n",
      " [0 0 0 ..., 0 0 0]\n",
      " [0 0 0 ..., 0 0 0]\n",
      " ..., \n",
      " [0 0 0 ..., 0 0 0]\n",
      " [0 0 0 ..., 0 0 0]\n",
      " [0 0 0 ..., 0 0 0]]\n",
      "[[0 0 0 ..., 0 0 0]\n",
      " [0 0 0 ..., 0 0 0]\n",
      " [0 0 0 ..., 0 0 0]\n",
      " ..., \n",
      " [0 0 0 ..., 0 0 0]\n",
      " [0 0 0 ..., 0 0 0]\n",
      " [0 0 0 ..., 0 0 0]]\n",
      "1299.49886725\n",
      "1768.22983078\n",
      "6.26577730679\n",
      "1842.1449505\n"
     ]
    }
   ],
   "source": [
    "get_mid_slice = measure.get_mid_slice\n",
    "images = protocol.dict_protocol_instances\n",
    "study['SNR'] = measure.snr(get_mid_slice(images['snr_acquisition_one'].pixel_array), get_mid_slice(images['snr_acquisition_two'].pixel_array))\n",
    "study['SPIR-FSE'] = measure.fse(get_mid_slice(images['spir_fat'].pixel_array), get_mid_slice(images['spir_water'].pixel_array))\n",
    "study['SPAIR-FSE'] = measure.fse(get_mid_slice(images['spair_fat'].pixel_array), get_mid_slice(images['spair_water'].pixel_array))\n",
    "num_to_str = {'1':'one','2':'two','3':'three','4':'four','5':'five','6':'six','7':'seven'}\n",
    "identifier = 'coil_{}_acquisition_one'\n",
    "for row in enumerate(num_to_str.items()):\n",
    "    study[identifier.format(row[1][1])] = '{:.2f}'.format(get_mid_slice(images[identifier.format(row[1][1])].pixel_array).mean())"
   ]
  },
  {
   "cell_type": "markdown",
   "metadata": {},
   "source": [
    "Output results"
   ]
  },
  {
   "cell_type": "code",
   "execution_count": 10,
   "metadata": {
    "collapsed": false
   },
   "outputs": [
    {
     "data": {
      "text/plain": [
       "{'MagneticFieldStrength': '3',\n",
       " 'PatientID': '456349085623',\n",
       " 'PatientName': 'BREAST QA LEVEL1',\n",
       " 'SNR': {'left_snr': 0.96216113422224148, 'right_snr': 207.89011843935836},\n",
       " 'SPAIR-FSE': {'left_fse': 92.430525653009113,\n",
       "  'right_fse': 92.602397019022717},\n",
       " 'SPIR-FSE': {'left_fse': 91.799923847732629, 'right_fse': 92.565384956259223},\n",
       " 'StationName': 'PHILIPS-911HLTO',\n",
       " 'StudyDate': '20161003',\n",
       " 'StudyDescription': 'BREAST QA',\n",
       " 'StudyUID': '1.3.46.670589.11.42358.5.0.8420.2016100308225197001',\n",
       " 'coil_five_acquisition_one': '364.25',\n",
       " 'coil_four_acquisition_one': '669.05',\n",
       " 'coil_one_acquisition_one': '85.52',\n",
       " 'coil_seven_acquisition_one': '76.91',\n",
       " 'coil_six_acquisition_one': '94.81',\n",
       " 'coil_three_acquisition_one': '106.20',\n",
       " 'coil_two_acquisition_one': '331.36'}"
      ]
     },
     "execution_count": 10,
     "metadata": {},
     "output_type": "execute_result"
    }
   ],
   "source": [
    "study['StudyDescription'] = instances[0].study_description\n",
    "study['StationName'] = instances[0].station_name\n",
    "study['PatientID'] = instances[0].patient_id\n",
    "study['MagneticFieldStrength'] = instances[0].magnetic_field_strength\n",
    "study"
   ]
  },
  {
   "cell_type": "code",
   "execution_count": 11,
   "metadata": {
    "collapsed": false
   },
   "outputs": [],
   "source": [
    "import csv\n",
    "import os.path\n",
    "csv_dir = 'results'\n",
    "csv_filename = study['StationName'] + '_' + study['StudyDate'] + '.csv' \n",
    "csv_rel_path = os.path.join(csv_dir,csv_filename)\n",
    "with open(csv_rel_path, 'w') as f:\n",
    "    csv_file = csv.writer(f)\n",
    "    csv_file.writerow(study.keys())\n",
    "    csv_file.writerow(study.values())"
   ]
  },
  {
   "cell_type": "code",
   "execution_count": 77,
   "metadata": {
    "collapsed": false
   },
   "outputs": [
    {
     "data": {
      "text/plain": [
       "numpy.int32"
      ]
     },
     "execution_count": 77,
     "metadata": {},
     "output_type": "execute_result"
    }
   ],
   "source": [
    "%matplotlib inline\n",
    "import matplotlib.pyplot as plt\n",
    "import numpy as np\n",
    "img1 = measure.get_mid_slice(images['snr_acquisition_one'].pixel_array)\n",
    "img2 = measure.get_mid_slice(images['snr_acquisition_two'].pixel_array)\n",
    "img1 = np.array(img1, dtype='int32')\n",
    "diff = img1 - img2\n",
    "type(diff[0][0])"
   ]
  },
  {
   "cell_type": "code",
   "execution_count": 48,
   "metadata": {
    "collapsed": false
   },
   "outputs": [
    {
     "data": {
      "text/plain": [
       "<matplotlib.image.AxesImage at 0x112a1b70>"
      ]
     },
     "execution_count": 48,
     "metadata": {},
     "output_type": "execute_result"
    },
    {
     "data": {
      "image/png": "[encoded data removed]",
      "text/plain": [
       "<matplotlib.figure.Figure at 0xfd1b4a8>"
      ]
     },
     "metadata": {},
     "output_type": "display_data"
    }
   ],
   "source": [
    "plt.imshow(roi_obj)"
   ]
  },
  {
   "cell_type": "code",
   "execution_count": 56,
   "metadata": {
    "collapsed": false
   },
   "outputs": [
    {
     "data": {
      "text/plain": [
       "(192, 192)"
      ]
     },
     "execution_count": 56,
     "metadata": {},
     "output_type": "execute_result"
    }
   ],
   "source": [
    "roi_obj.shape"
   ]
  }
 ],
 "metadata": {
  "anaconda-cloud": {},
  "kernelspec": {
   "display_name": "Python [conda root]",
   "language": "python",
   "name": "conda-root-py"
  },
  "language_info": {
   "codemirror_mode": {
    "name": "ipython",
    "version": 3
   },
   "file_extension": ".py",
   "mimetype": "text/x-python",
   "name": "python",
   "nbconvert_exporter": "python",
   "pygments_lexer": "ipython3",
   "version": "3.5.2"
  }
 },
 "nbformat": 4,
 "nbformat_minor": 0
}
