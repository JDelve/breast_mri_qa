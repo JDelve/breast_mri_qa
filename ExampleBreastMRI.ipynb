{
 "cells": [
  {
   "cell_type": "markdown",
   "metadata": {},
   "source": [
    "# Breast MRI QA"
   ]
  },
  {
   "cell_type": "markdown",
   "metadata": {},
   "source": [
    "This notebook allows a user to obtain MRI studies from an Orthanc DICOM server and apply a range of QA tests. The notebook acts as an interface to the `breast_mri_qa` package. Please read the instructions preceding each code cell, make any neccesary changes, and then execute the code before moving on to the next code block. "
   ]
  },
  {
   "cell_type": "code",
   "execution_count": null,
   "metadata": {
    "collapsed": false
   },
   "outputs": [],
   "source": [
    "from breast_mri_qa import fetch, organise, measure"
   ]
  },
  {
   "cell_type": "markdown",
   "metadata": {},
   "source": [
    "Define the Orthanc server information and login credentials."
   ]
  },
  {
   "cell_type": "code",
   "execution_count": null,
   "metadata": {
    "collapsed": true
   },
   "outputs": [],
   "source": [
    "host = '139.59.186.101' # <- EDITABLE\n",
    "port = 80 # <- EDITABLE\n",
    "user = 'orthanc' # <- EDITABLE\n",
    "passwd = 'orthanc' # <- EDITABLE"
   ]
  },
  {
   "cell_type": "markdown",
   "metadata": {},
   "source": [
    "Create a 'Fetcher' object which can query data at the patient, study and series level as well as return an instance. "
   ]
  },
  {
   "cell_type": "code",
   "execution_count": null,
   "metadata": {
    "collapsed": false
   },
   "outputs": [],
   "source": [
    "fetcher = fetch.Fetcher(host=host, port=port, user=user, passwd=passwd)"
   ]
  },
  {
   "cell_type": "markdown",
   "metadata": {},
   "source": [
    "## >>> Input required\n",
    "Specify string `patient_name` used to search Orthanc server to find all studies associated with patients with a name matching that string."
   ]
  },
  {
   "cell_type": "code",
   "execution_count": null,
   "metadata": {
    "collapsed": true
   },
   "outputs": [],
   "source": [
    "patient_name = 'BREAST*' # <- EDITABLE\n",
    "n_most_recent = 5 # <- EDITABLE"
   ]
  },
  {
   "cell_type": "code",
   "execution_count": null,
   "metadata": {
    "collapsed": false
   },
   "outputs": [],
   "source": [
    "studies = fetcher.get_n_most_recent_study_details(patient_name=patient_name, n_most_recent=n_most_recent)\n",
    "studyuids = [study['StudyUID'] for study in studies]\n",
    "studies"
   ]
  },
  {
   "cell_type": "markdown",
   "metadata": {},
   "source": [
    "## >>> Input required\n",
    "\n",
    "Select the StudyUID you want y specifying the value of `selected_study` (remember they are zero-indexed). e.g. `studyuids[0]` for the first item, or `studyuids[1]` for the second item."
   ]
  },
  {
   "cell_type": "code",
   "execution_count": null,
   "metadata": {
    "collapsed": true
   },
   "outputs": [],
   "source": [
    "selected_study = 3 # <- EDITABLE"
   ]
  },
  {
   "cell_type": "code",
   "execution_count": null,
   "metadata": {
    "collapsed": false
   },
   "outputs": [],
   "source": [
    "studyuid = studyuids[selected_study]\n",
    "study = studies[selected_study]\n",
    "seriesuids = fetcher.get_series(studyuid)\n",
    "instances = list(filter(lambda x: x is not None, (fetcher.get_valid_image_instance(studyuid, uid) for uid in seriesuids)))"
   ]
  },
  {
   "cell_type": "markdown",
   "metadata": {},
   "source": [
    "Check whether the list of instances contains a full protocol. `rules` contains the info required to match images to the protocol. Each protocol image rule must be a 3-tuple which has the following elements in this exact order:\n",
    "- Name used to reference the image\n",
    "- The name of the function used to determine whether the image is of the required type\n",
    "- The string used to identify the image type (e.g. whether it's a SNR or FSE image)"
   ]
  },
  {
   "cell_type": "code",
   "execution_count": null,
   "metadata": {
    "collapsed": false
   },
   "outputs": [],
   "source": [
    "rules = [\n",
    "    ('snr_acquisition_one', 'is_snr', 'TEST'),\n",
    "    ('snr_acquisition_two', 'is_snr', 'TEST'),\n",
    "    ('spir_water', 'is_spir_water_fse', 'SPIR WATER'),\n",
    "    ('spir_fat', 'is_spir_fat_fse', 'SPIR FAT'),\n",
    "    ('spair_water', 'is_spair_water_fse', 'SPAIR WATER'),\n",
    "    ('spair_fat', 'is_spair_fat_fse', 'SPAIR FAT'),\n",
    "    ('coil_one_acquisition_one', 'is_coil_one', 'COIL 1'),\n",
    "    ('coil_two_acquisition_two', 'is_coil_one', 'COIL 1'),\n",
    "    ('coil_one_acquisition_two', 'is_coil_two', 'COIL 2'),\n",
    "    ('coil_two_acquisition_one', 'is_coil_two', 'COIL 2'),\n",
    "    ('coil_three_acquisition_one', 'is_coil_three', 'COIL 3'),\n",
    "    ('coil_three_acquisition_two', 'is_coil_three', 'COIL 3'),\n",
    "    ('coil_four_acquisition_one', 'is_coil_four', 'COIL 4'),\n",
    "    ('coil_four_acquisition_two', 'is_coil_four', 'COIL 4'),\n",
    "    ('coil_five_acquisition_one', 'is_coil_five', 'COIL 5'),\n",
    "    ('coil_five_acquisition_two', 'is_coil_five', 'COIL 5'),\n",
    "    ('coil_six_acquisition_one', 'is_coil_six', 'COIL 6'),\n",
    "    ('coil_six_acquisition_two', 'is_coil_six', 'COIL 6'),\n",
    "    ('coil_seven_acquisition_one', 'is_coil_seven', 'COIL 7'),\n",
    "    ('coil_seven_acquisition_two', 'is_coil_seven', 'COIL 7'),\n",
    "]\n",
    "protocol = organise.Protocol(rules)\n",
    "missing_instances = protocol.assign_instances_to_protocol(instances)\n",
    "assert not missing_instances, missing_instances"
   ]
  },
  {
   "cell_type": "markdown",
   "metadata": {},
   "source": [
    "If you made it this far without an error then the study contains all the acquisitions required to do the QA - woohoo!"
   ]
  },
  {
   "cell_type": "code",
   "execution_count": null,
   "metadata": {
    "collapsed": true
   },
   "outputs": [],
   "source": [
    "get_mid_slice = measure.get_mid_slice\n",
    "images = protocol.dict_protocol_instances\n",
    "study['SNR'] = measure.snr(get_mid_slice(images['snr_acquisition_one']), get_mid_slice(images['snr_acquisition_two']))\n",
    "study['SPIR-FSE'] = measure.fse(get_mid_slice(images['spir_fat']), get_mid_slice(images['spir_water']))\n",
    "study['SPAIR-FSE'] = measure.fse(get_mid_slice(images['spair_fat']), get_mid_slice(images['spair_water']))\n",
    "num_to_str = {'1':'one','2':'two','3':'three','4':'four','5':'five','6':'six','7':'seven'}\n",
    "identifier = 'coil_{}_acquisition_one'\n",
    "for row in enumerate(num_to_str.items()):\n",
    "    study[identifier.format(row[1][1])] = '{:.2f}'.format(get_mid_slice(images[identifier.format(row[1][1])]).mean())"
   ]
  },
  {
   "cell_type": "markdown",
   "metadata": {},
   "source": [
    "Output results"
   ]
  },
  {
   "cell_type": "code",
   "execution_count": null,
   "metadata": {
    "collapsed": false
   },
   "outputs": [],
   "source": [
    "study['StationName'] = instances[0]['StationName']\n",
    "study['StudyDescription'] = instances[0]['StudyDescription']\n",
    "study['StationName'] = instances[0]['StationName']\n",
    "study['PatientID'] = instances[0]['PatientID']\n",
    "study['MagneticFieldStrength'] = instances[0]['MagneticFieldStrength']\n",
    "study"
   ]
  }
 ],
 "metadata": {
  "anaconda-cloud": {},
  "kernelspec": {
   "display_name": "Python [Root]",
   "language": "python",
   "name": "Python [Root]"
  },
  "language_info": {
   "codemirror_mode": {
    "name": "ipython",
    "version": 2
   },
   "file_extension": ".py",
   "mimetype": "text/x-python",
   "name": "python",
   "nbconvert_exporter": "python",
   "pygments_lexer": "ipython2",
   "version": "2.7.12"
  }
 },
 "nbformat": 4,
 "nbformat_minor": 0
}
