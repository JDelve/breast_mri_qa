{
 "cells": [
  {
   "cell_type": "code",
   "execution_count": 1,
   "metadata": {
    "collapsed": false
   },
   "outputs": [],
   "source": [
    "import cProfile\n",
    "from breast_mri_qa import fetch, organise, measure"
   ]
  },
  {
   "cell_type": "markdown",
   "metadata": {},
   "source": [
    "Define the Orthanc server information and login credentials."
   ]
  },
  {
   "cell_type": "code",
   "execution_count": 2,
   "metadata": {
    "collapsed": true
   },
   "outputs": [],
   "source": [
    "host = '139.59.186.101'\n",
    "port = 80\n",
    "user = 'orthanc'\n",
    "passwd = 'orthanc'"
   ]
  },
  {
   "cell_type": "markdown",
   "metadata": {},
   "source": [
    "Create a 'Fetcher' object which can query data at the patient, study and series level as well as return an instance. "
   ]
  },
  {
   "cell_type": "code",
   "execution_count": 3,
   "metadata": {
    "collapsed": false
   },
   "outputs": [],
   "source": [
    "fetcher = fetch.Fetcher(host=host, port=port, user=user, passwd=passwd)"
   ]
  },
  {
   "cell_type": "markdown",
   "metadata": {},
   "source": [
    "Get the `n` most recent StudyUIDs of studies associated with a patient name"
   ]
  },
  {
   "cell_type": "code",
   "execution_count": 4,
   "metadata": {
    "collapsed": false
   },
   "outputs": [
    {
     "data": {
      "text/plain": [
       "[u'1.3.46.670589.11.42358.5.0.8420.2016100308225197001',\n",
       " u'1.3.46.670589.11.41453.5.0.5940.2016092608192762001',\n",
       " u'1.3.46.670589.11.42358.5.0.9980.2016091208201340001',\n",
       " u'1.3.46.670589.11.42358.5.0.5328.2016062712051513007']"
      ]
     },
     "execution_count": 4,
     "metadata": {},
     "output_type": "execute_result"
    }
   ],
   "source": [
    "patient_name = 'BREAST*'\n",
    "n_most_recent = 4\n",
    "json_studies = fetcher.get_studies_json(patient_name=patient_name)\n",
    "studies = []\n",
    "for study in json_studies:\n",
    "    c = {}\n",
    "    c['StudyDate'] = study['00080020']['Value'][0]\n",
    "    c['StudyUID'] = study['0020000D']['Value'][0]\n",
    "    c['PatientName'] = study['00100010']['Value'][0]\n",
    "    studies.append(c)\n",
    "studies = sorted(studies, key=lambda k: k['StudyDate'], reverse=True)\n",
    "studies = studies[:n_most_recent]\n",
    "studyuids = [study['StudyUID'] for study in studies]\n",
    "studyuids"
   ]
  },
  {
   "cell_type": "markdown",
   "metadata": {},
   "source": [
    "Select the StudyUID you want y specifying the value of `selected_study` (remember they are zero-indexed). e.g. `studyuids[0]` for the first item, or `studyuids[1]` for the second item."
   ]
  },
  {
   "cell_type": "code",
   "execution_count": 5,
   "metadata": {
    "collapsed": false
   },
   "outputs": [
    {
     "data": {
      "text/plain": [
       "u'1.3.46.670589.11.42358.5.0.8420.2016100308225197001'"
      ]
     },
     "execution_count": 5,
     "metadata": {},
     "output_type": "execute_result"
    }
   ],
   "source": [
    "selected_study = 0\n",
    "studyuid = studyuids[selected_study]\n",
    "study = studies[selected_study]\n",
    "studyuid"
   ]
  },
  {
   "cell_type": "markdown",
   "metadata": {},
   "source": [
    "Get Series-level objects associated with this StudyUID."
   ]
  },
  {
   "cell_type": "code",
   "execution_count": null,
   "metadata": {
    "collapsed": false
   },
   "outputs": [
    {
     "data": {
      "text/plain": [
       "[u'1.3.46.670589.11.42358.5.0.7188.2016100308231157000',\n",
       " u'1.3.46.670589.11.42358.5.0.4408.2016100308234269606',\n",
       " u'1.3.46.670589.11.42358.5.0.8548.2016100308243136000',\n",
       " u'1.3.46.670589.11.42358.5.0.4408.2016100308245260660',\n",
       " u'1.3.46.670589.11.42358.5.0.4408.2016100308262008687',\n",
       " u'1.3.46.670589.11.42358.5.0.4408.2016100308273083693',\n",
       " u'1.3.46.670589.11.42358.5.0.4408.2016100308234308608',\n",
       " u'1.3.46.670589.11.42358.5.0.4408.2016100308351203767',\n",
       " u'1.3.46.670589.11.42358.5.0.4408.2016100308352122802',\n",
       " u'1.3.46.670589.11.42358.5.0.4408.2016100308262013688',\n",
       " u'1.3.46.670589.11.42358.5.0.4408.2016100308352319826',\n",
       " u'1.3.46.670589.11.42358.5.0.4408.2016100308352520850',\n",
       " u'1.3.46.670589.11.42358.5.0.4408.2016100308353180955',\n",
       " u'1.3.46.670589.11.42358.5.0.4408.2016100308305153730',\n",
       " u'1.3.46.670589.11.42358.5.0.4408.2016100308353908012',\n",
       " u'1.3.46.670589.11.42358.5.0.4408.2016100308354486047',\n",
       " u'1.3.46.670589.11.42358.5.0.4408.2016100308354720082',\n",
       " u'1.3.46.670589.11.42358.5.0.4408.2016100308352954920',\n",
       " u'1.3.46.670589.11.42358.5.0.4408.2016100308352742887',\n",
       " u'1.3.46.670589.11.42358.5.0.4408.2016100308355008117',\n",
       " u'1.3.46.670589.11.42358.5.0.4408.2016100308355224144',\n",
       " u'1.3.46.670589.11.42358.5.0.4408.2016100308355447176',\n",
       " u'1.3.46.670589.11.42358.5.0.4408.2016100308355690211',\n",
       " u'1.3.46.670589.11.42358.5.0.4408.2016100308363432259',\n",
       " u'1.3.46.670589.11.42358.5.0.4408.2016100308394596313',\n",
       " u'1.3.46.670589.11.42358.5.0.4408.2016100308410502338',\n",
       " u'1.3.46.670589.11.42358.5.0.4408.2016100308375844277']"
      ]
     },
     "execution_count": 6,
     "metadata": {},
     "output_type": "execute_result"
    }
   ],
   "source": [
    "seriesuids = fetcher.get_series(studyuid)\n",
    "seriesuids"
   ]
  },
  {
   "cell_type": "markdown",
   "metadata": {},
   "source": [
    "Get the valid images associated with each of these series."
   ]
  },
  {
   "cell_type": "code",
   "execution_count": null,
   "metadata": {
    "collapsed": false
   },
   "outputs": [],
   "source": [
    "instances = []\n",
    "for uid in seriesuids:\n",
    "    possible_instance = fetcher.get_valid_image_instance(studyuid, uid)\n",
    "    if (possible_instance):\n",
    "        instances.append(possible_instance)"
   ]
  },
  {
   "cell_type": "markdown",
   "metadata": {},
   "source": [
    "Check whether the list of instances contains a full protocol. TODO The protocol is currently hard-coded - need to read in data at runtime!"
   ]
  },
  {
   "cell_type": "code",
   "execution_count": null,
   "metadata": {
    "collapsed": false
   },
   "outputs": [],
   "source": [
    "protocol = organise.Protocol()\n",
    "missing_instances = protocol.assign_instances_to_protocol(instances)\n",
    "#assert(missing_instances is None)\n",
    "missing_instances"
   ]
  },
  {
   "cell_type": "markdown",
   "metadata": {},
   "source": [
    "If you made if this far without an error then the study contains all the acquisitions required to do the QA - woohoo!"
   ]
  },
  {
   "cell_type": "code",
   "execution_count": null,
   "metadata": {
    "collapsed": true
   },
   "outputs": [],
   "source": [
    "def get_mid_slice(instance):\n",
    "    pixel_array = instance['PixelArray']\n",
    "    return pixel_array[int(len(pixel_array) / float(2))]"
   ]
  },
  {
   "cell_type": "code",
   "execution_count": null,
   "metadata": {
    "collapsed": false
   },
   "outputs": [],
   "source": [
    "images = protocol.dict_protocol_instances"
   ]
  },
  {
   "cell_type": "code",
   "execution_count": null,
   "metadata": {
    "collapsed": false
   },
   "outputs": [],
   "source": [
    "measure.calc_snr(get_mid_slice(images['snr_acquisition_one']), get_mid_slice(images['snr_acquisition_two']))"
   ]
  },
  {
   "cell_type": "code",
   "execution_count": null,
   "metadata": {
    "collapsed": false
   },
   "outputs": [],
   "source": [
    "measure.calc_fse(get_mid_slice(images['spir_fat']), get_mid_slice(images['spir_water']))"
   ]
  },
  {
   "cell_type": "code",
   "execution_count": null,
   "metadata": {
    "collapsed": false
   },
   "outputs": [],
   "source": [
    "measure.calc_fse(get_mid_slice(images['spair_fat']), get_mid_slice(images['spair_water']))"
   ]
  },
  {
   "cell_type": "code",
   "execution_count": null,
   "metadata": {
    "collapsed": false
   },
   "outputs": [],
   "source": [
    "num_coils = 7\n",
    "num_to_str = {'1':'one','2':'two','3':'three','4':'four','5':'five','6':'six','7':'seven'}\n",
    "coil_image_means = []\n",
    "for i in range(1, num_coils + 1):\n",
    "    c = {}\n",
    "    identifier = str('coil_' + num_to_str[str(i)] + '_acquisition_one')\n",
    "    c[identifier] = get_mid_slice(images[identifier]).mean()\n",
    "    coil_image_means.append(c)\n",
    "coil_image_means"
   ]
  },
  {
   "cell_type": "code",
   "execution_count": null,
   "metadata": {
    "collapsed": false
   },
   "outputs": [],
   "source": [
    "study"
   ]
  }
 ],
 "metadata": {
  "anaconda-cloud": {},
  "kernelspec": {
   "display_name": "Python [Root]",
   "language": "python",
   "name": "Python [Root]"
  },
  "language_info": {
   "codemirror_mode": {
    "name": "ipython",
    "version": 2
   },
   "file_extension": ".py",
   "mimetype": "text/x-python",
   "name": "python",
   "nbconvert_exporter": "python",
   "pygments_lexer": "ipython2",
   "version": "2.7.12"
  }
 },
 "nbformat": 4,
 "nbformat_minor": 0
}
