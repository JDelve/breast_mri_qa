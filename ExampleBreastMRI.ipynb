{
 "cells": [
  {
   "cell_type": "markdown",
   "metadata": {},
   "source": [
    "# Breast MRI QA"
   ]
  },
  {
   "cell_type": "markdown",
   "metadata": {},
   "source": [
    "This notebook allows a user to obtain MRI studies from an Orthanc DICOM server and apply a range of QA tests. The notebook acts as an interface to the `breast_mri_qa` package. Please read the instructions preceding each code cell, make any neccesary changes, and then execute the code before moving on to the next code block. "
   ]
  },
  {
   "cell_type": "code",
   "execution_count": 1,
   "metadata": {
    "collapsed": false
   },
   "outputs": [],
   "source": [
    "from breast_mri_qa import fetch, organise, measure"
   ]
  },
  {
   "cell_type": "markdown",
   "metadata": {},
   "source": [
    "Define the Orthanc server information and login credentials."
   ]
  },
  {
   "cell_type": "code",
   "execution_count": 2,
   "metadata": {
    "collapsed": true
   },
   "outputs": [],
   "source": [
    "host = '139.59.186.101' # <- EDITABLE\n",
    "port = 80 # <- EDITABLE\n",
    "user = 'orthanc' # <- EDITABLE\n",
    "passwd = 'orthanc' # <- EDITABLE"
   ]
  },
  {
   "cell_type": "markdown",
   "metadata": {},
   "source": [
    "Create a 'Fetcher' object which can query data at the patient, study and series level as well as return an instance. "
   ]
  },
  {
   "cell_type": "code",
   "execution_count": 3,
   "metadata": {
    "collapsed": false
   },
   "outputs": [],
   "source": [
    "fetcher = fetch.Fetcher(host=host, port=port, user=user, passwd=passwd)"
   ]
  },
  {
   "cell_type": "markdown",
   "metadata": {},
   "source": [
    "## >>> Input required\n",
    "Specify string `patient_name` used to search Orthanc server to find all studies associated with patients with a name matching that string."
   ]
  },
  {
   "cell_type": "code",
   "execution_count": 4,
   "metadata": {
    "collapsed": true
   },
   "outputs": [],
   "source": [
    "patient_name = 'BREAST*' # <- EDITABLE\n",
    "n_most_recent = 5 # <- EDITABLE"
   ]
  },
  {
   "cell_type": "code",
   "execution_count": 5,
   "metadata": {
    "collapsed": false
   },
   "outputs": [
    {
     "data": {
      "text/plain": [
       "[{'PatientName': u'BREAST QA LEVEL1',\n",
       "  'StudyDate': u'20160627',\n",
       "  'StudyUID': u'1.3.46.670589.11.42358.5.0.5328.2016062712051513007'},\n",
       " {'PatientName': u'BREAST QA LEVEL 1',\n",
       "  'StudyDate': u'20160912',\n",
       "  'StudyUID': u'1.3.46.670589.11.42358.5.0.9980.2016091208201340001'},\n",
       " {'PatientName': u'BREAST QA LEVEL 2',\n",
       "  'StudyDate': u'20160926',\n",
       "  'StudyUID': u'1.3.46.670589.11.41453.5.0.5940.2016092608192762001'},\n",
       " {'PatientName': u'BREAST QA LEVEL1',\n",
       "  'StudyDate': u'20161003',\n",
       "  'StudyUID': u'1.3.46.670589.11.42358.5.0.8420.2016100308225197001'}]"
      ]
     },
     "execution_count": 5,
     "metadata": {},
     "output_type": "execute_result"
    }
   ],
   "source": [
    "studies = fetcher.get_n_most_recent_study_details(patient_name=patient_name, n_most_recent=n_most_recent)\n",
    "studyuids = [study['StudyUID'] for study in studies]\n",
    "studies"
   ]
  },
  {
   "cell_type": "markdown",
   "metadata": {},
   "source": [
    "## >>> Input required\n",
    "\n",
    "Select the StudyUID you want y specifying the value of `selected_study` (remember they are zero-indexed). e.g. `studyuids[0]` for the first item, or `studyuids[1]` for the second item."
   ]
  },
  {
   "cell_type": "code",
   "execution_count": 6,
   "metadata": {
    "collapsed": true
   },
   "outputs": [],
   "source": [
    "selected_study = 3 # <- EDITABLE"
   ]
  },
  {
   "cell_type": "code",
   "execution_count": 7,
   "metadata": {
    "collapsed": false
   },
   "outputs": [],
   "source": [
    "studyuid = studyuids[selected_study]\n",
    "study = studies[selected_study]\n",
    "seriesuids = fetcher.get_series(studyuid)\n",
    "instances = list(filter(lambda x: x is not None, (fetcher.get_valid_image_instance(studyuid, uid) for uid in seriesuids)))"
   ]
  },
  {
   "cell_type": "markdown",
   "metadata": {},
   "source": [
    "Check whether the list of instances contains a full protocol. `rules` contains the info required to match images to the protocol. Each protocol image rule must be a 3-tuple which has the following elements in this exact order:\n",
    "- Name used to reference the image\n",
    "- The name of the function used to determine whether the image is of the required type\n",
    "- The string used to identify the image type (e.g. whether it's a SNR or FSE image)"
   ]
  },
  {
   "cell_type": "code",
   "execution_count": 8,
   "metadata": {
    "collapsed": false
   },
   "outputs": [],
   "source": [
    "rules = [\n",
    "    ('snr_acquisition_one', 'is_snr', 'TEST'),\n",
    "    ('snr_acquisition_two', 'is_snr', 'TEST'),\n",
    "    ('spir_water', 'is_spir_water_fse', 'SPIR WATER'),\n",
    "    ('spir_fat', 'is_spir_fat_fse', 'SPIR FAT'),\n",
    "    ('spair_water', 'is_spair_water_fse', 'SPAIR WATER'),\n",
    "    ('spair_fat', 'is_spair_fat_fse', 'SPAIR FAT'),\n",
    "    ('coil_one_acquisition_one', 'is_coil_one', 'COIL 1'),\n",
    "    ('coil_two_acquisition_two', 'is_coil_one', 'COIL 1'),\n",
    "    ('coil_one_acquisition_two', 'is_coil_two', 'COIL 2'),\n",
    "    ('coil_two_acquisition_one', 'is_coil_two', 'COIL 2'),\n",
    "    ('coil_three_acquisition_one', 'is_coil_three', 'COIL 3'),\n",
    "    ('coil_three_acquisition_two', 'is_coil_three', 'COIL 3'),\n",
    "    ('coil_four_acquisition_one', 'is_coil_four', 'COIL 4'),\n",
    "    ('coil_four_acquisition_two', 'is_coil_four', 'COIL 4'),\n",
    "    ('coil_five_acquisition_one', 'is_coil_five', 'COIL 5'),\n",
    "    ('coil_five_acquisition_two', 'is_coil_five', 'COIL 5'),\n",
    "    ('coil_six_acquisition_one', 'is_coil_six', 'COIL 6'),\n",
    "    ('coil_six_acquisition_two', 'is_coil_six', 'COIL 6'),\n",
    "    ('coil_seven_acquisition_one', 'is_coil_seven', 'COIL 7'),\n",
    "    ('coil_seven_acquisition_two', 'is_coil_seven', 'COIL 7'),\n",
    "]\n",
    "protocol = organise.Protocol(rules)\n",
    "missing_instances = protocol.assign_instances_to_protocol(instances)\n",
    "assert not missing_instances, missing_instances"
   ]
  },
  {
   "cell_type": "markdown",
   "metadata": {},
   "source": [
    "If you made it this far without an error then the study contains all the acquisitions required to do the QA - woohoo!"
   ]
  },
  {
   "cell_type": "code",
   "execution_count": 9,
   "metadata": {
    "collapsed": true
   },
   "outputs": [],
   "source": [
    "get_mid_slice = measure.get_mid_slice\n",
    "images = protocol.dict_protocol_instances\n",
    "study['SNR'] = measure.snr(get_mid_slice(images['snr_acquisition_one']), get_mid_slice(images['snr_acquisition_two']))\n",
    "study['SPIR-FSE'] = measure.fse(get_mid_slice(images['spir_fat']), get_mid_slice(images['spir_water']))\n",
    "study['SPAIR-FSE'] = measure.fse(get_mid_slice(images['spair_fat']), get_mid_slice(images['spair_water']))\n",
    "num_to_str = {'1':'one','2':'two','3':'three','4':'four','5':'five','6':'six','7':'seven'}\n",
    "identifier = 'coil_{}_acquisition_one'\n",
    "for row in enumerate(num_to_str.items()):\n",
    "    study[identifier.format(row[1][1])] = '{:.2f}'.format(get_mid_slice(images[identifier.format(row[1][1])]).mean())"
   ]
  },
  {
   "cell_type": "markdown",
   "metadata": {},
   "source": [
    "Output results"
   ]
  },
  {
   "cell_type": "code",
   "execution_count": 10,
   "metadata": {
    "collapsed": false
   },
   "outputs": [
    {
     "data": {
      "text/plain": [
       "{'MagneticFieldStrength': '3',\n",
       " 'PatientID': '456349085623',\n",
       " 'PatientName': u'BREAST QA LEVEL1',\n",
       " 'SNR': {'left_snr': 190.41904654110081, 'right_snr': 210.33762730877802},\n",
       " 'SPAIR-FSE': {'left_fse': 92.430525653009113,\n",
       "  'right_fse': 92.602397019022717},\n",
       " 'SPIR-FSE': {'left_fse': 91.799923847732629, 'right_fse': 92.565384956259223},\n",
       " 'StationName': 'PHILIPS-911HLTO',\n",
       " 'StudyDate': u'20161003',\n",
       " 'StudyDescription': 'BREAST QA',\n",
       " 'StudyUID': u'1.3.46.670589.11.42358.5.0.8420.2016100308225197001',\n",
       " 'coil_five_acquisition_one': '349.48',\n",
       " 'coil_four_acquisition_one': '651.55',\n",
       " 'coil_one_acquisition_one': '85.66',\n",
       " 'coil_seven_acquisition_one': '75.99',\n",
       " 'coil_six_acquisition_one': '95.64',\n",
       " 'coil_three_acquisition_one': '106.20',\n",
       " 'coil_two_acquisition_one': '343.14'}"
      ]
     },
     "execution_count": 10,
     "metadata": {},
     "output_type": "execute_result"
    }
   ],
   "source": [
    "study['StationName'] = instances[0]['StationName']\n",
    "study['StudyDescription'] = instances[0]['StudyDescription']\n",
    "study['StationName'] = instances[0]['StationName']\n",
    "study['PatientID'] = instances[0]['PatientID']\n",
    "study['MagneticFieldStrength'] = instances[0]['MagneticFieldStrength']\n",
    "study"
   ]
  }
 ],
 "metadata": {
  "anaconda-cloud": {},
  "kernelspec": {
   "display_name": "Python [Root]",
   "language": "python",
   "name": "Python [Root]"
  },
  "language_info": {
   "codemirror_mode": {
    "name": "ipython",
    "version": 2
   },
   "file_extension": ".py",
   "mimetype": "text/x-python",
   "name": "python",
   "nbconvert_exporter": "python",
   "pygments_lexer": "ipython2",
   "version": "2.7.12"
  }
 },
 "nbformat": 4,
 "nbformat_minor": 0
}
