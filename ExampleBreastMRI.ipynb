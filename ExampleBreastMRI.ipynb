{
 "cells": [
  {
   "cell_type": "code",
   "execution_count": null,
   "metadata": {
    "collapsed": false
   },
   "outputs": [],
   "source": [
    "from breast_mri_qa import fetch, organise, measure"
   ]
  },
  {
   "cell_type": "markdown",
   "metadata": {},
   "source": [
    "Define the Orthanc server information and login credentials."
   ]
  },
  {
   "cell_type": "code",
   "execution_count": null,
   "metadata": {
    "collapsed": true
   },
   "outputs": [],
   "source": [
    "host = '139.59.186.101'\n",
    "port = 80\n",
    "user = 'orthanc'\n",
    "passwd = 'orthanc'"
   ]
  },
  {
   "cell_type": "markdown",
   "metadata": {},
   "source": [
    "Create a 'Fetcher' object which can query data at the patient, study and series level as well as return an instance. "
   ]
  },
  {
   "cell_type": "code",
   "execution_count": null,
   "metadata": {
    "collapsed": false
   },
   "outputs": [],
   "source": [
    "fetcher = fetch.Fetcher(host=host, port=port, user=user, passwd=passwd)"
   ]
  },
  {
   "cell_type": "markdown",
   "metadata": {},
   "source": [
    "Get the `n` most recent StudyUIDs of studies associated with a patient name"
   ]
  },
  {
   "cell_type": "code",
   "execution_count": null,
   "metadata": {
    "collapsed": false
   },
   "outputs": [],
   "source": [
    "patient_name = 'BREAST*'\n",
    "n_most_recent = 4\n",
    "json_studies = fetcher.get_studies_json(patient_name=patient_name)\n",
    "studies = []\n",
    "for study in json_studies:\n",
    "    c = {}\n",
    "    c['StudyDate'] = study['00080020']['Value'][0]\n",
    "    c['StudyUID'] = study['0020000D']['Value'][0]\n",
    "    c['PatientName'] = study['00100010']['Value'][0]\n",
    "    studies.append(c)\n",
    "studies = sorted(studies, key=lambda k: k['StudyDate'], reverse=True)\n",
    "studies = studies[:n_most_recent]\n",
    "studyuids = [study['StudyUID'] for study in studies]\n",
    "studyuids"
   ]
  },
  {
   "cell_type": "markdown",
   "metadata": {},
   "source": [
    "Select the StudyUID you want y specifying the value of `selected_study` (remember they are zero-indexed). e.g. `studyuids[0]` for the first item, or `studyuids[1]` for the second item."
   ]
  },
  {
   "cell_type": "code",
   "execution_count": null,
   "metadata": {
    "collapsed": false
   },
   "outputs": [],
   "source": [
    "selected_study = 0\n",
    "studyuid = studyuids[selected_study]\n",
    "study = studies[selected_study]\n",
    "studyuid"
   ]
  },
  {
   "cell_type": "markdown",
   "metadata": {},
   "source": [
    "Get Series-level objects associated with this StudyUID."
   ]
  },
  {
   "cell_type": "code",
   "execution_count": null,
   "metadata": {
    "collapsed": false
   },
   "outputs": [],
   "source": [
    "seriesuids = fetcher.get_series(studyuid)\n",
    "seriesuids"
   ]
  },
  {
   "cell_type": "markdown",
   "metadata": {},
   "source": [
    "Get the valid images associated with each of these series."
   ]
  },
  {
   "cell_type": "code",
   "execution_count": null,
   "metadata": {
    "collapsed": false
   },
   "outputs": [],
   "source": [
    "instances = []\n",
    "for uid in seriesuids:\n",
    "    possible_instance = fetcher.get_valid_image_instance(studyuid, uid)\n",
    "    if (possible_instance):\n",
    "        instances.append(possible_instance)"
   ]
  },
  {
   "cell_type": "markdown",
   "metadata": {},
   "source": [
    "Check whether the list of instances contains a full protocol. `rules` contains the info required to match images to the protocol. Each protocol image rule must be a 4-tuple which has the following elements in this exact order:\n",
    "- Name used to reference the image\n",
    "- The name of the function used to determine whether the image is of the required type\n",
    "- The string used to identify the image type (e.g. whether its a SNR or FSE image)"
   ]
  },
  {
   "cell_type": "code",
   "execution_count": null,
   "metadata": {
    "collapsed": false
   },
   "outputs": [],
   "source": [
    "rules = [\n",
    "    ('snr_acquisition_one', 'is_snr', 'TEST'),\n",
    "    ('snr_acquisition_two', 'is_snr', 'TEST'),\n",
    "    ('spir_water', 'is_spir_water_fse', 'SPIR WATER'),\n",
    "    ('spir_fat', 'is_spir_fat_fse', 'SPIR FAT'),\n",
    "    ('spair_water', 'is_spair_water_fse', 'SPAIR WATER'),\n",
    "    ('spair_fat', 'is_spair_fat_fse', 'SPAIR FAT'),\n",
    "    ('coil_one_acquisition_one', 'is_coil_one', 'COIL 1'),\n",
    "    ('coil_two_acquisition_two', 'is_coil_one', 'COIL 1'),\n",
    "    ('coil_one_acquisition_two', 'is_coil_two', 'COIL 2'),\n",
    "    ('coil_two_acquisition_one', 'is_coil_two', 'COIL 2'),\n",
    "    ('coil_three_acquisition_one', 'is_coil_three', 'COIL 3'),\n",
    "    ('coil_three_acquisition_two', 'is_coil_three', 'COIL 3'),\n",
    "    ('coil_four_acquisition_one', 'is_coil_four', 'COIL 4'),\n",
    "    ('coil_four_acquisition_two', 'is_coil_four', 'COIL 4'),\n",
    "    ('coil_five_acquisition_one', 'is_coil_five', 'COIL 5'),\n",
    "    ('coil_five_acquisition_two', 'is_coil_five', 'COIL 5'),\n",
    "    ('coil_six_acquisition_one', 'is_coil_six', 'COIL 6'),\n",
    "    ('coil_six_acquisition_two', 'is_coil_six', 'COIL 6'),\n",
    "    ('coil_seven_acquisition_one', 'is_coil_seven', 'COIL 7'),\n",
    "    ('coil_seven_acquisition_two', 'is_coil_seven', 'COIL 7'),\n",
    "]\n",
    "protocol = organise.Protocol(rules)\n",
    "missing_instances = protocol.assign_instances_to_protocol(instances)\n",
    "assert(not missing_instances)"
   ]
  },
  {
   "cell_type": "markdown",
   "metadata": {},
   "source": [
    "If you made if this far without an error then the study contains all the acquisitions required to do the QA - woohoo!"
   ]
  },
  {
   "cell_type": "code",
   "execution_count": null,
   "metadata": {
    "collapsed": true
   },
   "outputs": [],
   "source": [
    "def get_mid_slice(instance):\n",
    "    pixel_array = instance['PixelArray']\n",
    "    return pixel_array[int(len(pixel_array) / float(2))]"
   ]
  },
  {
   "cell_type": "code",
   "execution_count": null,
   "metadata": {
    "collapsed": false
   },
   "outputs": [],
   "source": [
    "images = protocol.dict_protocol_instances"
   ]
  },
  {
   "cell_type": "code",
   "execution_count": null,
   "metadata": {
    "collapsed": false
   },
   "outputs": [],
   "source": [
    "measure.calc_snr(get_mid_slice(images['snr_acquisition_one']), get_mid_slice(images['snr_acquisition_two']))"
   ]
  },
  {
   "cell_type": "code",
   "execution_count": null,
   "metadata": {
    "collapsed": false
   },
   "outputs": [],
   "source": [
    "measure.calc_fse(get_mid_slice(images['spir_fat']), get_mid_slice(images['spir_water']))"
   ]
  },
  {
   "cell_type": "code",
   "execution_count": null,
   "metadata": {
    "collapsed": false
   },
   "outputs": [],
   "source": [
    "measure.calc_fse(get_mid_slice(images['spair_fat']), get_mid_slice(images['spair_water']))"
   ]
  },
  {
   "cell_type": "code",
   "execution_count": null,
   "metadata": {
    "collapsed": false
   },
   "outputs": [],
   "source": [
    "num_coils = 7\n",
    "num_to_str = {'1':'one','2':'two','3':'three','4':'four','5':'five','6':'six','7':'seven'}\n",
    "coil_image_means = []\n",
    "for i in range(1, num_coils + 1):\n",
    "    c = {}\n",
    "    identifier = str('coil_' + num_to_str[str(i)] + '_acquisition_one')\n",
    "    c[identifier] = get_mid_slice(images[identifier]).mean()\n",
    "    coil_image_means.append(c)\n",
    "coil_image_means"
   ]
  },
  {
   "cell_type": "code",
   "execution_count": null,
   "metadata": {
    "collapsed": false
   },
   "outputs": [],
   "source": [
    "study"
   ]
  }
 ],
 "metadata": {
  "anaconda-cloud": {},
  "kernelspec": {
   "display_name": "Python [Root]",
   "language": "python",
   "name": "Python [Root]"
  },
  "language_info": {
   "codemirror_mode": {
    "name": "ipython",
    "version": 2
   },
   "file_extension": ".py",
   "mimetype": "text/x-python",
   "name": "python",
   "nbconvert_exporter": "python",
   "pygments_lexer": "ipython2",
   "version": "2.7.12"
  }
 },
 "nbformat": 4,
 "nbformat_minor": 0
}
